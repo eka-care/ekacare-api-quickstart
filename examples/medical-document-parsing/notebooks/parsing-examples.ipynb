{
 "cells": [
  {
   "cell_type": "code",
   "execution_count": 6,
   "id": "25c6c927-1d14-47fc-9f5b-d9cdc095a174",
   "metadata": {},
   "outputs": [],
   "source": [
    "import requests\n",
    "import json\n",
    "from pathlib import Path \n",
    "import os"
   ]
  },
  {
   "cell_type": "code",
   "execution_count": 7,
   "id": "529913bc-d503-4579-acfe-234e9a0ee266",
   "metadata": {},
   "outputs": [],
   "source": [
    "BASE_URL = \"https://api.eka.care\"\n",
    "CLIENT_ID = <your client id>\n",
    "CLIENT_SECRET = <your client secret>\n",
    "\n",
    "# Needed if you are trying lab report parsing\n",
    "lab_report_path = <file path>\n",
    "\n",
    "# Needed if you are trying Medical Scribe\n",
    "audio_file_path = \"\""
   ]
  },
  {
   "cell_type": "markdown",
   "id": "e4cb54e8-bfcc-4c82-b318-9196475724f3",
   "metadata": {},
   "source": [
    "# General functions wrapping APIs"
   ]
  },
  {
   "cell_type": "code",
   "execution_count": 8,
   "id": "1fbeb8c4-6282-4014-ab77-18811c2779fe",
   "metadata": {},
   "outputs": [],
   "source": [
    "def get_client_token(client_id, client_secret):\n",
    "    \"\"\"\n",
    "    Retrieve JWT token using client credentials.\n",
    "    \"\"\"\n",
    "    url = f\"{BASE_URL}/connect-auth/v1/account/login\"\n",
    "    payload = {\n",
    "        \"client_id\": client_id,\n",
    "        \"client_secret\": client_secret,\n",
    "    }\n",
    "    headers = {\"Content-Type\": \"application/json\"}\n",
    "    \n",
    "    response = requests.post(url, json=payload, headers=headers)\n",
    "    \n",
    "    response.raise_for_status()\n",
    "    return response.json().get(\"access_token\")\n",
    "\n",
    "\n",
    "def get_mime_type(filepath):\n",
    "    filename, ext = os.path.splitext(filepath)\n",
    "    ext = ext.split('.')[-1].lower()\n",
    "    if ext == 'pdf':\n",
    "        mime = \"application/pdf\"\n",
    "    elif ext in ['jpeg', 'jpg']:\n",
    "        mime = 'image/jpeg'\n",
    "    elif ext in ['png']:\n",
    "        mime = 'image/png'\n",
    "    else:\n",
    "        raise Exception(\"Please provide either PDF, PNG, JPEG, or JPG formatted files\")\n",
    "    return mime\n",
    "    \n",
    "    \n",
    "def upload_lab_report(access_token, file_paths, tasks=None):\n",
    "    \"\"\"\n",
    "    Upload files to the server.\n",
    "    \"\"\"\n",
    "    url = f\"{BASE_URL}/mr/api/v2/docs?dt=lr\"\n",
    "    if type(tasks) is list:\n",
    "        last_task_index = len(tasks) - 1\n",
    "        for index, task in enumerate(tasks):\n",
    "            if index <= last_task_index:\n",
    "                url += \"&\"\n",
    "            url += f\"task={task}\"\n",
    "    headers = {\n",
    "        \"auth\": access_token,\n",
    "    }\n",
    "\n",
    "     # Prepare files for upload\n",
    "    \n",
    "    files = [\n",
    "        (\"file\", (Path(file_path).name, open(file_path, \"rb\"), get_mime_type(file_path)))\n",
    "        for file_path in file_paths\n",
    "    ]\n",
    "\n",
    "    response = requests.post(url, headers=headers, files=files)\n",
    "\n",
    "    response.raise_for_status()\n",
    "    return response.json().get(\"document_id\")\n",
    "\n",
    "def upload_audio(access_token, file_paths, mode, txnid):\n",
    "    \"\"\"\n",
    "    Upload files to the server.\n",
    "    \"\"\"\n",
    "    url = f\"{BASE_URL}/voice/upload\"\n",
    "    headers = {\n",
    "        \"auth\": access_token,\n",
    "    }\n",
    "\n",
    "    querystring = {\"mode\":f\"{mode}\",\"txnid\":f\"{txnid}\"}\n",
    "\n",
    "     # Prepare files for upload\n",
    "    files = [\n",
    "        (\"file\", (Path(file_path).name, open(file_path, \"rb\"), \"audio/wav\"))\n",
    "        for file_path in file_paths\n",
    "    ]\n",
    "\n",
    "    response = requests.post(url, headers=headers, files=files, params=querystring)\n",
    "\n",
    "    return response.text\n",
    "\n",
    "\n",
    "def retrieve_json_data(access_token, document_id):\n",
    "    \"\"\"\n",
    "    Retrieve JSON data using the document ID.\n",
    "    \"\"\"\n",
    "    identifier = f\"ekacare-sr-{document_id}\"\n",
    "    url = f\"{BASE_URL}/health/api/v1/fhir/retrieve?identifier={identifier}\"\n",
    "    headers = {\"auth\": access_token}\n",
    "    \n",
    "    response = requests.get(url, headers=headers)\n",
    "    response.raise_for_status()\n",
    "    return response.json()\n",
    "\n",
    "def retrieve_mr_result(access_token, document_id):\n",
    "    \"\"\"\n",
    "    Retrieve JSON data using the document ID.\n",
    "    \"\"\"\n",
    "    # identifier = f\"ekacare-sr-{document_id}\"\n",
    "    identifier = f\"{document_id}\"\n",
    "    url = f\"{BASE_URL}/mr/api/v1/docs/{identifier}/result\"\n",
    "    headers = {\"auth\": access_token}\n",
    "    \n",
    "    response = requests.get(url, headers=headers)\n",
    "    response.raise_for_status()\n",
    "    return response.json()\n",
    "\n",
    "def retrieve_scribe_output(access_token, txid):\n",
    "    \"\"\"\n",
    "    Retrieve JSON data using the document ID.\n",
    "    \"\"\"\n",
    "    identifier = str(txid)\n",
    "    url = f\"{BASE_URL}/health/api/v1/fhir/retrieve?identifier={identifier}\"\n",
    "    headers = {\"auth\": access_token}\n",
    "    \n",
    "    response = requests.get(url, headers=headers)\n",
    "    response.raise_for_status()\n",
    "    return response.json()\n",
    "\n",
    "def delete_document(access_token, document_id):\n",
    "    \"\"\"\n",
    "    Delete a document by its ID.\n",
    "    \"\"\"\n",
    "    url = f\"{BASE_URL}/mr/api/v1/docs/{document_id}\"\n",
    "    headers = {\n",
    "        \"auth\": access_token,\n",
    "        \n",
    "    }\n",
    "    \n",
    "    response = requests.delete(url, headers=headers)\n",
    "    response.raise_for_status()\n",
    "    return response.status_code"
   ]
  },
  {
   "cell_type": "markdown",
   "id": "8d2e3b64-a995-4516-8082-af3d8397b6cb",
   "metadata": {},
   "source": [
    "### Authenticate"
   ]
  },
  {
   "cell_type": "code",
   "execution_count": 11,
   "id": "0d865d09-916c-4d93-bffc-aecf93c0bca2",
   "metadata": {},
   "outputs": [
    {
     "ename": "NameError",
     "evalue": "name 'CLIENT_ID' is not defined",
     "output_type": "error",
     "traceback": [
      "\u001b[0;31m---------------------------------------------------------------------------\u001b[0m",
      "\u001b[0;31mNameError\u001b[0m                                 Traceback (most recent call last)",
      "\u001b[0;32m/var/folders/fr/7qkrgwwx7wbf3bq12_v8d6980000gn/T/ipykernel_15292/3389010843.py\u001b[0m in \u001b[0;36m<module>\u001b[0;34m\u001b[0m\n\u001b[1;32m      1\u001b[0m \u001b[0;31m# Step 1: Get client token\u001b[0m\u001b[0;34m\u001b[0m\u001b[0;34m\u001b[0m\u001b[0;34m\u001b[0m\u001b[0m\n\u001b[0;32m----> 2\u001b[0;31m \u001b[0maccess_token\u001b[0m \u001b[0;34m=\u001b[0m \u001b[0mget_client_token\u001b[0m\u001b[0;34m(\u001b[0m\u001b[0mCLIENT_ID\u001b[0m\u001b[0;34m,\u001b[0m \u001b[0mCLIENT_SECRET\u001b[0m\u001b[0;34m)\u001b[0m\u001b[0;34m\u001b[0m\u001b[0;34m\u001b[0m\u001b[0m\n\u001b[0m\u001b[1;32m      3\u001b[0m \u001b[0mprint\u001b[0m\u001b[0;34m(\u001b[0m\u001b[0;34mf\"Access Token: {access_token}\"\u001b[0m\u001b[0;34m)\u001b[0m\u001b[0;34m\u001b[0m\u001b[0;34m\u001b[0m\u001b[0m\n",
      "\u001b[0;31mNameError\u001b[0m: name 'CLIENT_ID' is not defined"
     ]
    }
   ],
   "source": [
    "# Step 1: Get client token\n",
    "access_token = get_client_token(CLIENT_ID, CLIENT_SECRET)\n",
    "print(f\"Access Token: {access_token}\")"
   ]
  },
  {
   "cell_type": "markdown",
   "id": "588b5b09-f9b3-494a-83cd-d0c3b753b9f9",
   "metadata": {},
   "source": [
    "### Upload file"
   ]
  },
  {
   "cell_type": "code",
   "execution_count": null,
   "id": "253f596e-8b6a-40cb-8984-100ed437720b",
   "metadata": {},
   "outputs": [],
   "source": [
    "# Step 2: Upload files and retrieve document ID\n",
    "\n",
    "file_paths = [lab_report_path]\n",
    "document_id = upload_lab_report(access_token, file_paths, tasks=['pii', 'smart'])\n",
    "print(f\"Document ID: {document_id}\")"
   ]
  },
  {
   "cell_type": "markdown",
   "id": "cccb3403-3ab0-4956-b98d-2f7f74d91412",
   "metadata": {},
   "source": [
    "### Result API"
   ]
  },
  {
   "cell_type": "code",
   "execution_count": null,
   "id": "82923b6b-ffa3-491d-b98a-4d092a949802",
   "metadata": {},
   "outputs": [],
   "source": [
    "result = retrieve_mr_result(access_token, document_id)"
   ]
  },
  {
   "cell_type": "code",
   "execution_count": null,
   "id": "f9bbda9d-8b73-4bd7-99fd-2c5b37fefad4",
   "metadata": {},
   "outputs": [],
   "source": [
    "result"
   ]
  },
  {
   "cell_type": "markdown",
   "id": "c81427b7-9be4-458f-bbfa-724dafd3dc17",
   "metadata": {},
   "source": [
    "### Fetch smart record\n",
    "\n",
    "Do this once the status in the above step is completed\n",
    "\n",
    "NOTE: to avoid polling there is also a webhook method to get notified about completion of report parsing"
   ]
  },
  {
   "cell_type": "code",
   "execution_count": null,
   "id": "8318e6f9-1d9f-46d3-a0b4-fadd9cd7bb89",
   "metadata": {
    "scrolled": true
   },
   "outputs": [],
   "source": [
    "# Step 3: Retrieve JSON data\n",
    "json_data = retrieve_json_data(access_token, document_id)\n",
    "print(\"Retrieved JSON Data:\")\n",
    "print(json.dumps(json_data, indent=4))"
   ]
  },
  {
   "cell_type": "markdown",
   "id": "2634bc3a-29fa-4ecc-aacd-29154559c67a",
   "metadata": {},
   "source": [
    "### DELETE RECORD"
   ]
  },
  {
   "cell_type": "code",
   "execution_count": null,
   "id": "aedb171e-877d-4874-a0ea-6247c00f4e8a",
   "metadata": {},
   "outputs": [],
   "source": [
    "delete_status = delete_document(access_token, document_id)\n",
    "print(f\"Document deleted successfully. Status code: {delete_status}\")"
   ]
  },
  {
   "cell_type": "markdown",
   "id": "70438210-0725-426a-b178-f8b7c4ba9147",
   "metadata": {},
   "source": [
    "# Eka Speech to Medical Record"
   ]
  },
  {
   "cell_type": "code",
   "execution_count": 10,
   "id": "f4aa9e1e-11b1-4d41-9c6e-9ed286c17bd2",
   "metadata": {},
   "outputs": [
    {
     "ename": "NameError",
     "evalue": "name 'access_token' is not defined",
     "output_type": "error",
     "traceback": [
      "\u001b[0;31m---------------------------------------------------------------------------\u001b[0m",
      "\u001b[0;31mNameError\u001b[0m                                 Traceback (most recent call last)",
      "\u001b[0;32m/var/folders/fr/7qkrgwwx7wbf3bq12_v8d6980000gn/T/ipykernel_15292/849731127.py\u001b[0m in \u001b[0;36m<module>\u001b[0;34m\u001b[0m\n\u001b[1;32m      6\u001b[0m \u001b[0mtx_id\u001b[0m \u001b[0;34m=\u001b[0m \u001b[0;34m'niharika-sample-testing'\u001b[0m\u001b[0;34m\u001b[0m\u001b[0;34m\u001b[0m\u001b[0m\n\u001b[1;32m      7\u001b[0m \u001b[0;34m\u001b[0m\u001b[0m\n\u001b[0;32m----> 8\u001b[0;31m \u001b[0mresponse\u001b[0m \u001b[0;34m=\u001b[0m \u001b[0mupload_audio\u001b[0m\u001b[0;34m(\u001b[0m\u001b[0maccess_token\u001b[0m\u001b[0;34m,\u001b[0m \u001b[0mfile_paths\u001b[0m\u001b[0;34m,\u001b[0m \u001b[0mmode\u001b[0m\u001b[0;34m=\u001b[0m\u001b[0;34m'dictation'\u001b[0m\u001b[0;34m,\u001b[0m \u001b[0mtxnid\u001b[0m\u001b[0;34m=\u001b[0m\u001b[0mtx_id\u001b[0m\u001b[0;34m)\u001b[0m\u001b[0;34m\u001b[0m\u001b[0;34m\u001b[0m\u001b[0m\n\u001b[0m\u001b[1;32m      9\u001b[0m \u001b[0mprint\u001b[0m\u001b[0;34m(\u001b[0m\u001b[0mresponse\u001b[0m\u001b[0;34m)\u001b[0m\u001b[0;34m\u001b[0m\u001b[0;34m\u001b[0m\u001b[0m\n",
      "\u001b[0;31mNameError\u001b[0m: name 'access_token' is not defined"
     ]
    }
   ],
   "source": [
    "# Step 2: Upload files and retrieve document ID\n",
    "\n",
    "file_paths = [audio_file_path]\n",
    "\n",
    "# According to your workflow, give any meaningful unique transaction id\n",
    "tx_id = 'niharika-sample-testing'\n",
    "\n",
    "response = upload_audio(access_token, file_paths, mode='dictation', txnid=tx_id)\n",
    "print(response)"
   ]
  },
  {
   "cell_type": "markdown",
   "id": "5d8d0f00-2ecc-45fd-9a60-acd1445c9520",
   "metadata": {},
   "source": [
    "### Fetch Structured medical document\n",
    "\n",
    "NOTE: the response below is available within 2 mins of upload of audio. Status API for this will soon be released"
   ]
  },
  {
   "cell_type": "code",
   "execution_count": null,
   "id": "37b2e320-2049-4895-b8bf-91a04cba3a12",
   "metadata": {
    "scrolled": true
   },
   "outputs": [],
   "source": [
    "# Step 3: Retrieve JSON data\n",
    "json_data = retrieve_scribe_output(access_token, tx_id)\n",
    "print(\"Retrieved JSON Data:\")\n",
    "print(json.dumps(json_data, indent=4))"
   ]
  },
  {
   "cell_type": "code",
   "execution_count": null,
   "id": "6c56941d-0abd-4f15-9dd3-9bd19d3f5248",
   "metadata": {},
   "outputs": [],
   "source": []
  }
 ],
 "metadata": {
  "kernelspec": {
   "display_name": "Python 3 (ipykernel)",
   "language": "python",
   "name": "python3"
  },
  "language_info": {
   "codemirror_mode": {
    "name": "ipython",
    "version": 3
   },
   "file_extension": ".py",
   "mimetype": "text/x-python",
   "name": "python",
   "nbconvert_exporter": "python",
   "pygments_lexer": "ipython3",
   "version": "3.9.5"
  }
 },
 "nbformat": 4,
 "nbformat_minor": 5
}
