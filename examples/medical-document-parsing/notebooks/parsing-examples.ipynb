{
 "cells": [
  {
   "cell_type": "code",
   "execution_count": 1,
   "id": "25c6c927-1d14-47fc-9f5b-d9cdc095a174",
   "metadata": {},
   "outputs": [],
   "source": [
    "import requests\n",
    "import json\n",
    "from pathlib import Path \n",
    "import os\n",
    "from dotenv import load_dotenv"
   ]
  },
  {
   "cell_type": "code",
   "execution_count": null,
   "id": "7579bce5",
   "metadata": {},
   "outputs": [],
   "source": [
    "load_dotenv()  # Load environment variables"
   ]
  },
  {
   "cell_type": "code",
   "execution_count": 5,
   "id": "529913bc-d503-4579-acfe-234e9a0ee266",
   "metadata": {},
   "outputs": [],
   "source": [
    "BASE_URL = \"https://api.eka.care\"\n",
    "CLIENT_ID = os.getenv('EKA_CLIENT_ID')\n",
    "CLIENT_SECRET = os.getenv('EKA_CLIENT_SECRET')"
   ]
  },
  {
   "cell_type": "markdown",
   "id": "e4cb54e8-bfcc-4c82-b318-9196475724f3",
   "metadata": {},
   "source": [
    "# General functions wrapping APIs"
   ]
  },
  {
   "cell_type": "code",
   "execution_count": 6,
   "id": "1fbeb8c4-6282-4014-ab77-18811c2779fe",
   "metadata": {},
   "outputs": [],
   "source": [
    "def get_client_token(client_id, client_secret):\n",
    "    \"\"\"\n",
    "    Retrieve JWT token using client credentials.\n",
    "    \"\"\"\n",
    "    url = f\"{BASE_URL}/connect-auth/v1/account/login\"\n",
    "    payload = {\n",
    "        \"client_id\": client_id,\n",
    "        \"client_secret\": client_secret,\n",
    "    }\n",
    "    headers = {\"Content-Type\": \"application/json\"}\n",
    "    \n",
    "    response = requests.post(url, json=payload, headers=headers)\n",
    "    \n",
    "    response.raise_for_status()\n",
    "    return response.json().get(\"access_token\")\n",
    "\n",
    "\n",
    "def get_mime_type(filepath):\n",
    "    filename, ext = os.path.splitext(filepath)\n",
    "    ext = ext.split('.')[-1].lower()\n",
    "    if ext == 'pdf':\n",
    "        mime = \"application/pdf\"\n",
    "    elif ext in ['jpeg', 'jpg']:\n",
    "        mime = 'image/jpeg'\n",
    "    elif ext in ['png']:\n",
    "        mime = 'image/png'\n",
    "    else:\n",
    "        raise Exception(\"Please provide either PDF, PNG, JPEG, or JPG formatted files\")\n",
    "    return mime\n",
    "    \n",
    "    \n",
    "def upload_lab_report(access_token, file_paths, tasks=None):\n",
    "    \"\"\"\n",
    "    Upload files to the server.\n",
    "    \"\"\"\n",
    "    url = f\"{BASE_URL}/mr/api/v2/docs?dt=lr\"\n",
    "    if type(tasks) is list:\n",
    "        last_task_index = len(tasks) - 1\n",
    "        for index, task in enumerate(tasks):\n",
    "            if index <= last_task_index:\n",
    "                url += \"&\"\n",
    "            url += f\"task={task}\"\n",
    "    headers = {\n",
    "        \"auth\": access_token,\n",
    "    }\n",
    "\n",
    "     # Prepare files for upload\n",
    "    \n",
    "    files = [\n",
    "        (\"file\", (Path(file_path).name, open(file_path, \"rb\"), get_mime_type(file_path)))\n",
    "        for file_path in file_paths\n",
    "    ]\n",
    "\n",
    "    response = requests.post(url, headers=headers, files=files)\n",
    "\n",
    "    response.raise_for_status()\n",
    "    return response.json().get(\"document_id\")\n",
    "\n",
    "def retrieve_json_data(access_token, document_id):\n",
    "    \"\"\"\n",
    "    Retrieve JSON data using the document ID.\n",
    "    \"\"\"\n",
    "    identifier = f\"ekacare-sr-{document_id}\"\n",
    "    url = f\"{BASE_URL}/health/api/v1/fhir/retrieve?identifier={identifier}\"\n",
    "    headers = {\"auth\": access_token}\n",
    "    \n",
    "    response = requests.get(url, headers=headers)\n",
    "    response.raise_for_status()\n",
    "    return response.json()\n",
    "\n",
    "def retrieve_mr_result(access_token, document_id):\n",
    "    \"\"\"\n",
    "    Retrieve JSON data using the document ID.\n",
    "    \"\"\"\n",
    "    # identifier = f\"ekacare-sr-{document_id}\"\n",
    "    identifier = f\"{document_id}\"\n",
    "    url = f\"{BASE_URL}/mr/api/v1/docs/{identifier}/result\"\n",
    "    headers = {\"auth\": access_token}\n",
    "    \n",
    "    response = requests.get(url, headers=headers)\n",
    "    response.raise_for_status()\n",
    "    return response.json()\n",
    "\n",
    "def delete_document(access_token, document_id):\n",
    "    \"\"\"\n",
    "    Delete a document by its ID.\n",
    "    \"\"\"\n",
    "    url = f\"{BASE_URL}/mr/api/v1/docs/{document_id}\"\n",
    "    headers = {\n",
    "        \"auth\": access_token,\n",
    "        \n",
    "    }\n",
    "    \n",
    "    response = requests.delete(url, headers=headers)\n",
    "    response.raise_for_status()\n",
    "    return response.status_code"
   ]
  },
  {
   "cell_type": "markdown",
   "id": "8d2e3b64-a995-4516-8082-af3d8397b6cb",
   "metadata": {},
   "source": [
    "### Authenticate"
   ]
  },
  {
   "cell_type": "code",
   "execution_count": null,
   "id": "0d865d09-916c-4d93-bffc-aecf93c0bca2",
   "metadata": {},
   "outputs": [],
   "source": [
    "# Step 1: Get client token\n",
    "access_token = get_client_token(CLIENT_ID, CLIENT_SECRET)\n",
    "print(f\"Access Token: {access_token}\")"
   ]
  },
  {
   "cell_type": "markdown",
   "id": "588b5b09-f9b3-494a-83cd-d0c3b753b9f9",
   "metadata": {},
   "source": [
    "### Upload file"
   ]
  },
  {
   "cell_type": "code",
   "execution_count": 9,
   "id": "d58322ac",
   "metadata": {},
   "outputs": [],
   "source": [
    "lab_report_path = \"../../assets/eka_example_lab_report.jpg\""
   ]
  },
  {
   "cell_type": "code",
   "execution_count": null,
   "id": "253f596e-8b6a-40cb-8984-100ed437720b",
   "metadata": {},
   "outputs": [],
   "source": [
    "# Step 2: Upload files and retrieve document ID\n",
    "file_paths = [lab_report_path]\n",
    "document_id = upload_lab_report(access_token, file_paths, tasks=['pii', 'smart'])\n",
    "print(f\"Document ID: {document_id}\")"
   ]
  },
  {
   "cell_type": "markdown",
   "id": "cccb3403-3ab0-4956-b98d-2f7f74d91412",
   "metadata": {},
   "source": [
    "### Result API\n",
    "\n",
    "This API polls for the result. Preferred method is to attach a webhook so that the results are available as soon as the processing is done."
   ]
  },
  {
   "cell_type": "code",
   "execution_count": 11,
   "id": "82923b6b-ffa3-491d-b98a-4d092a949802",
   "metadata": {},
   "outputs": [],
   "source": [
    "result = retrieve_mr_result(access_token, document_id)"
   ]
  },
  {
   "cell_type": "code",
   "execution_count": null,
   "id": "f9bbda9d-8b73-4bd7-99fd-2c5b37fefad4",
   "metadata": {},
   "outputs": [],
   "source": [
    "result"
   ]
  },
  {
   "cell_type": "markdown",
   "id": "c81427b7-9be4-458f-bbfa-724dafd3dc17",
   "metadata": {},
   "source": [
    "### Fetch FHIR record\n",
    "\n",
    "Even though the Results API (above) contains base64 encoded FHIR document, there is another API to just fetch the FHIR record"
   ]
  },
  {
   "cell_type": "code",
   "execution_count": null,
   "id": "8318e6f9-1d9f-46d3-a0b4-fadd9cd7bb89",
   "metadata": {
    "scrolled": true
   },
   "outputs": [],
   "source": [
    "# Step 3: Retrieve JSON data\n",
    "json_data = retrieve_json_data(access_token, document_id)"
   ]
  },
  {
   "cell_type": "code",
   "execution_count": null,
   "id": "7dc78e99",
   "metadata": {},
   "outputs": [],
   "source": [
    "print(\"Retrieved JSON Data:\")\n",
    "print(json.dumps(json_data, indent=4))"
   ]
  },
  {
   "cell_type": "markdown",
   "id": "2634bc3a-29fa-4ecc-aacd-29154559c67a",
   "metadata": {},
   "source": [
    "### Delete Document\n",
    "\n",
    "This API gives developers to completely erase every trace of the document from EkaCare's servers. \n",
    "\n",
    "NOTE: not deleting document incurrs a storage cost"
   ]
  },
  {
   "cell_type": "code",
   "execution_count": null,
   "id": "aedb171e-877d-4874-a0ea-6247c00f4e8a",
   "metadata": {},
   "outputs": [],
   "source": [
    "delete_status = delete_document(access_token, document_id)\n",
    "print(f\"Document deleted successfully. Status code: {delete_status}\")"
   ]
  }
 ],
 "metadata": {
  "kernelspec": {
   "display_name": ".venv",
   "language": "python",
   "name": "python3"
  },
  "language_info": {
   "codemirror_mode": {
    "name": "ipython",
    "version": 3
   },
   "file_extension": ".py",
   "mimetype": "text/x-python",
   "name": "python",
   "nbconvert_exporter": "python",
   "pygments_lexer": "ipython3",
   "version": "3.13.0"
  }
 },
 "nbformat": 4,
 "nbformat_minor": 5
}
